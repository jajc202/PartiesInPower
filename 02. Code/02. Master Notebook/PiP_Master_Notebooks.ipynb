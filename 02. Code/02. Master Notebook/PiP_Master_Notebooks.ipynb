{
 "cells": [
  {
   "cell_type": "markdown",
   "metadata": {},
   "source": [
    "# **Parties in Power (PiP) Master Notebook**"
   ]
  },
  {
   "cell_type": "markdown",
   "metadata": {},
   "source": [
    "---"
   ]
  },
  {
   "cell_type": "markdown",
   "metadata": {},
   "source": [
    "**Created**: 15/03/2025  \n",
    "**Purpose**: To create visualisations for the PiP article **(ADD LINK HERE)**  \n",
    "**Prerequisites**: Data preparation notebooks to be run for each country **(ADD LINK HERE)**  \n",
    "**Output**: JPEG-format visualisations for: 1) Change in political alignment by popular vote; 2) Change in political alignment by party in power."
   ]
  },
  {
   "cell_type": "markdown",
   "metadata": {},
   "source": [
    "---"
   ]
  },
  {
   "cell_type": "markdown",
   "metadata": {},
   "source": [
    "## **Import Required Libraries**"
   ]
  },
  {
   "cell_type": "code",
   "execution_count": 1,
   "metadata": {},
   "outputs": [],
   "source": [
    "# Import pandas\n",
    "import pandas as pd\n",
    "\n",
    "# Import matplotlib and seaborn for plotting\n",
    "import matplotlib.pyplot as plt\n",
    "import seaborn as sns\n",
    "\n",
    "# Import os to access directories\n",
    "import os\n",
    "\n",
    "# Import json for config files\n",
    "import json"
   ]
  },
  {
   "cell_type": "markdown",
   "metadata": {},
   "source": [
    "## **Import Processed Data**"
   ]
  },
  {
   "cell_type": "markdown",
   "metadata": {},
   "source": [
    "### **Define Folder Path for Processed Data**"
   ]
  },
  {
   "cell_type": "code",
   "execution_count": 18,
   "metadata": {},
   "outputs": [],
   "source": [
    "# Define main directory & config filepath\n",
    "main_directory = os.path.abspath(os.path.join(os.getcwd(), '..\\..'))  # Go up one level to the main directory\n",
    "\n",
    "# Define folder path for processed election data\n",
    "inp_path = os.path.join(main_directory, '03. Output\\\\01. Intermediate\\\\')"
   ]
  },
  {
   "cell_type": "markdown",
   "metadata": {},
   "source": [
    "### **Create Dictionary of Election Results for Each Country**"
   ]
  },
  {
   "cell_type": "code",
   "execution_count": 19,
   "metadata": {},
   "outputs": [],
   "source": [
    "# Get all CSV files in the directory\n",
    "csv_files = [f for f in os.listdir(inp_path) if f.endswith('.csv')]\n",
    "\n",
    "# Dictionary to store paired DataFrames\n",
    "country_dict = {}\n",
    "\n",
    "# Iterate through files and store them in dictionary\n",
    "for file in csv_files:\n",
    "    country, version = file.rsplit(\"_\", 1)  # Split into country and version (e.g., \"UK\", \"Prev.csv\")\n",
    "    version = version.replace(\".csv\", \"\")  # Remove \".csv\"\n",
    "\n",
    "    # Read CSV into DataFrame\n",
    "    df = pd.read_csv(f\"{inp_path}\\{file}\")\n",
    "\n",
    "    # Initialize country key if not exists\n",
    "    if country not in country_dict:\n",
    "        country_dict[country] = {}\n",
    "\n",
    "    # Store the DataFrame under \"Prev\" or \"New\"\n",
    "    country_dict[country][version] = df"
   ]
  },
  {
   "cell_type": "markdown",
   "metadata": {},
   "source": [
    "## **Create Master Dataframe**"
   ]
  },
  {
   "cell_type": "markdown",
   "metadata": {},
   "source": [
    "### **Join All Dataframes**"
   ]
  },
  {
   "cell_type": "code",
   "execution_count": 24,
   "metadata": {},
   "outputs": [],
   "source": [
    "# Initialise list of rows for master_df\n",
    "master_lst = []\n",
    "\n",
    "# Loop through all dfs\n",
    "for country, df_dict in country_dict.items():\n",
    "    # Extract prev and new dfs\n",
    "    prev_df = df_dict[\"Prev\"]\n",
    "    new_df = df_dict[\"New\"]\n",
    "\n",
    "    # Order dfs by Vote Prop\n",
    "    prev_df = prev_df.sort_values(\"In-Scope Vote Prop\", ascending=False).reset_index(drop=True)\n",
    "    new_df = new_df.sort_values(\"In-Scope Vote Prop\", ascending=False).reset_index(drop=True)\n",
    "\n",
    "    # Compute Political Spectrum Scores (dot product of Alignment and In-Scope Vote Prop)\n",
    "    prev_score = prev_df[\"Alignment Score\"].dot(prev_df[\"In-Scope Vote Prop\"])\n",
    "    new_score = new_df[\"Alignment Score\"].dot(new_df[\"In-Scope Vote Prop\"])\n",
    "\n",
    "    # Get alignment of majority party for each election\n",
    "    prev_party = prev_df[\"Alignment Score\"][0]\n",
    "    new_party = new_df[\"Alignment Score\"][0]\n",
    "    \n",
    "    # Append the results as a new row in the master list\n",
    "    master_lst.append({\n",
    "        \"Country\": country, \n",
    "        \"Previous Political Spectrum Score\": prev_score, \n",
    "        \"Latest Political Spectrum Score\": new_score,\n",
    "        \"Previous Majority Party\": prev_party,\n",
    "        \"Latest Majority Party\": new_party\n",
    "    })\n",
    "\n",
    "# Create master DataFrame\n",
    "master_df = pd.DataFrame(master_lst)"
   ]
  },
  {
   "cell_type": "markdown",
   "metadata": {},
   "source": [
    "### **Create Alignment Change Column**"
   ]
  },
  {
   "cell_type": "code",
   "execution_count": 25,
   "metadata": {},
   "outputs": [
    {
     "data": {
      "text/html": [
       "<div>\n",
       "<style scoped>\n",
       "    .dataframe tbody tr th:only-of-type {\n",
       "        vertical-align: middle;\n",
       "    }\n",
       "\n",
       "    .dataframe tbody tr th {\n",
       "        vertical-align: top;\n",
       "    }\n",
       "\n",
       "    .dataframe thead th {\n",
       "        text-align: right;\n",
       "    }\n",
       "</style>\n",
       "<table border=\"1\" class=\"dataframe\">\n",
       "  <thead>\n",
       "    <tr style=\"text-align: right;\">\n",
       "      <th></th>\n",
       "      <th>Country</th>\n",
       "      <th>Previous Political Spectrum Score</th>\n",
       "      <th>Latest Political Spectrum Score</th>\n",
       "      <th>Previous Majority Party</th>\n",
       "      <th>Latest Majority Party</th>\n",
       "      <th>Alignment Change</th>\n",
       "    </tr>\n",
       "  </thead>\n",
       "  <tbody>\n",
       "    <tr>\n",
       "      <th>0</th>\n",
       "      <td>UK</td>\n",
       "      <td>0.430000</td>\n",
       "      <td>0.070000</td>\n",
       "      <td>3</td>\n",
       "      <td>-2</td>\n",
       "      <td>-0.360000</td>\n",
       "    </tr>\n",
       "    <tr>\n",
       "      <th>1</th>\n",
       "      <td>Canada</td>\n",
       "      <td>0.084484</td>\n",
       "      <td>0.232640</td>\n",
       "      <td>-1</td>\n",
       "      <td>-1</td>\n",
       "      <td>0.148156</td>\n",
       "    </tr>\n",
       "    <tr>\n",
       "      <th>2</th>\n",
       "      <td>Belgium</td>\n",
       "      <td>0.207070</td>\n",
       "      <td>0.255894</td>\n",
       "      <td>2</td>\n",
       "      <td>2</td>\n",
       "      <td>0.048825</td>\n",
       "    </tr>\n",
       "    <tr>\n",
       "      <th>3</th>\n",
       "      <td>Australia</td>\n",
       "      <td>0.759323</td>\n",
       "      <td>0.346381</td>\n",
       "      <td>3</td>\n",
       "      <td>3</td>\n",
       "      <td>-0.412942</td>\n",
       "    </tr>\n",
       "    <tr>\n",
       "      <th>4</th>\n",
       "      <td>US</td>\n",
       "      <td>0.392500</td>\n",
       "      <td>0.517513</td>\n",
       "      <td>-2</td>\n",
       "      <td>3</td>\n",
       "      <td>0.125013</td>\n",
       "    </tr>\n",
       "    <tr>\n",
       "      <th>5</th>\n",
       "      <td>Sweden</td>\n",
       "      <td>0.608662</td>\n",
       "      <td>0.693772</td>\n",
       "      <td>-2</td>\n",
       "      <td>-2</td>\n",
       "      <td>0.085110</td>\n",
       "    </tr>\n",
       "    <tr>\n",
       "      <th>6</th>\n",
       "      <td>Italy</td>\n",
       "      <td>-0.484269</td>\n",
       "      <td>0.830414</td>\n",
       "      <td>-4</td>\n",
       "      <td>5</td>\n",
       "      <td>1.314683</td>\n",
       "    </tr>\n",
       "    <tr>\n",
       "      <th>7</th>\n",
       "      <td>Germany</td>\n",
       "      <td>0.628578</td>\n",
       "      <td>0.946423</td>\n",
       "      <td>2</td>\n",
       "      <td>2</td>\n",
       "      <td>0.317845</td>\n",
       "    </tr>\n",
       "    <tr>\n",
       "      <th>8</th>\n",
       "      <td>Netherlands</td>\n",
       "      <td>1.125280</td>\n",
       "      <td>1.469460</td>\n",
       "      <td>2</td>\n",
       "      <td>5</td>\n",
       "      <td>0.344180</td>\n",
       "    </tr>\n",
       "    <tr>\n",
       "      <th>9</th>\n",
       "      <td>France</td>\n",
       "      <td>0.544989</td>\n",
       "      <td>1.535629</td>\n",
       "      <td>1</td>\n",
       "      <td>6</td>\n",
       "      <td>0.990640</td>\n",
       "    </tr>\n",
       "  </tbody>\n",
       "</table>\n",
       "</div>"
      ],
      "text/plain": [
       "       Country  Previous Political Spectrum Score  \\\n",
       "0           UK                           0.430000   \n",
       "1       Canada                           0.084484   \n",
       "2      Belgium                           0.207070   \n",
       "3    Australia                           0.759323   \n",
       "4           US                           0.392500   \n",
       "5       Sweden                           0.608662   \n",
       "6        Italy                          -0.484269   \n",
       "7      Germany                           0.628578   \n",
       "8  Netherlands                           1.125280   \n",
       "9       France                           0.544989   \n",
       "\n",
       "   Latest Political Spectrum Score  Previous Majority Party  \\\n",
       "0                         0.070000                        3   \n",
       "1                         0.232640                       -1   \n",
       "2                         0.255894                        2   \n",
       "3                         0.346381                        3   \n",
       "4                         0.517513                       -2   \n",
       "5                         0.693772                       -2   \n",
       "6                         0.830414                       -4   \n",
       "7                         0.946423                        2   \n",
       "8                         1.469460                        2   \n",
       "9                         1.535629                        1   \n",
       "\n",
       "   Latest Majority Party  Alignment Change  \n",
       "0                     -2         -0.360000  \n",
       "1                     -1          0.148156  \n",
       "2                      2          0.048825  \n",
       "3                      3         -0.412942  \n",
       "4                      3          0.125013  \n",
       "5                     -2          0.085110  \n",
       "6                      5          1.314683  \n",
       "7                      2          0.317845  \n",
       "8                      5          0.344180  \n",
       "9                      6          0.990640  "
      ]
     },
     "execution_count": 25,
     "metadata": {},
     "output_type": "execute_result"
    }
   ],
   "source": [
    "# Create alignment change col\n",
    "master_df[\"Alignment Change\"] = master_df[\"Latest Political Spectrum Score\"] - master_df[\"Previous Political Spectrum Score\"]\n",
    "\n",
    "# Sort by biggest change (from left to right) asc\n",
    "master_df = master_df.sort_values(\"Latest Political Spectrum Score\", ascending=True).reset_index(drop=True)\n",
    "\n",
    "# Convert 'Country' column to categorical for correct plotting order\n",
    "master_df['Country'] = pd.Categorical(master_df['Country'], categories=master_df['Country'], ordered=True)\n",
    "\n",
    "# Display the final master DataFrame\n",
    "master_df"
   ]
  },
  {
   "cell_type": "markdown",
   "metadata": {},
   "source": [
    "## **Create Visualisations**"
   ]
  },
  {
   "cell_type": "markdown",
   "metadata": {},
   "source": [
    "### **Change in Political Alignment by Popular Vote**"
   ]
  },
  {
   "cell_type": "code",
   "execution_count": 26,
   "metadata": {},
   "outputs": [
    {
     "data": {
      "image/png": "[encoded data removed]",
      "text/plain": [
       "<Figure size 1000x600 with 1 Axes>"
      ]
     },
     "metadata": {},
     "output_type": "display_data"
    }
   ],
   "source": [
    "# Set the BBC-style theme\n",
    "sns.set_theme(style=\"dark\")\n",
    "\n",
    "# Create the figure\n",
    "plt.figure(figsize=(10, 6))\n",
    "\n",
    "# Define colors\n",
    "left_shift_color = \"#1f77b4\"   # Muted blue (leftward shift)\n",
    "right_shift_color = \"#d62728\"  # Muted red (rightward shift)\n",
    "marker_edge_color = \"black\"\n",
    "\n",
    "# Loop through each country and plot the shift\n",
    "for i in range(len(master_df)):\n",
    "    prev_score = master_df[\"Previous Political Spectrum Score\"][i]\n",
    "    latest_score = master_df[\"Latest Political Spectrum Score\"][i]\n",
    "    country = master_df[\"Country\"][i]\n",
    "    \n",
    "    # Determine line color based on direction of movement\n",
    "    line_color = left_shift_color if latest_score < prev_score else right_shift_color\n",
    "    \n",
    "    # Plot connecting line\n",
    "    plt.plot([prev_score, latest_score], [country, country], \n",
    "             color=line_color, linestyle=\"-\", linewidth=2, alpha=0.8)\n",
    "\n",
    "    # Plot previous score marker\n",
    "    plt.scatter(prev_score, country, \n",
    "                color=marker_edge_color, s=25, label=\"Previous Score\" if i == 0 else \"\", \n",
    "                edgecolor=marker_edge_color, linewidth=0.8)\n",
    "    \n",
    "    # Plot latest score marker\n",
    "    #plt.scatter(latest_score, country, \n",
    "    #            color=marker_edge_color, s=25, label=\"Latest Score\" if i == 0 else \"\", \n",
    "    #            edgecolor=marker_edge_color, linewidth=0.8)\n",
    "\n",
    "    # Add an arrow showing direction\n",
    "    plt.arrow(prev_score, i, latest_score - prev_score, 0, \n",
    "              head_width=0.2, head_length=0.05, \n",
    "              color=line_color, alpha=0.8, length_includes_head=True)\n",
    "\n",
    "# Add a vertical center line for reference\n",
    "plt.axvline(0, color=\"black\", linestyle=\"--\", linewidth=1, alpha=0.8)\n",
    "\n",
    "# Set labels and title\n",
    "plt.xlabel(\"Political Spectrum Score\", fontsize=14, fontweight=\"bold\")\n",
    "plt.ylabel(\"\")  # Remove y-axis label for a cleaner look\n",
    "plt.title(\"Political Alignment Shift by Country\", fontsize=16, fontweight=\"bold\")\n",
    "\n",
    "# Define custom x-tick labels\n",
    "x_tick_mapping = {\n",
    "    -6: \"Far-Left\", \n",
    "    -4: \"Left\", \n",
    "    -2: \"Center-Left\", \n",
    "     0: \"Center\", \n",
    "     2: \"Center-Right\", \n",
    "     4: \"Right\", \n",
    "     6: \"Far-Right\"\n",
    "}\n",
    "plt.xticks(ticks=list(x_tick_mapping.keys()), labels=list(x_tick_mapping.values()), fontsize=12)\n",
    "\n",
    "plt.xlim(-2, 2)\n",
    "\n",
    "# Improve aesthetics\n",
    "plt.legend(fontsize=12, frameon=False)  # Simple legend\n",
    "plt.grid(axis=\"y\", linestyle=\"--\", alpha=0.6)  # Subtle horizontal gridlines\n",
    "sns.despine(left=True, bottom=True)  # Remove extra spines\n",
    "\n",
    "# Show the plot\n",
    "plt.show()\n"
   ]
  }
 ],
 "metadata": {
  "kernelspec": {
   "display_name": "Python 3",
   "language": "python",
   "name": "python3"
  },
  "language_info": {
   "codemirror_mode": {
    "name": "ipython",
    "version": 3
   },
   "file_extension": ".py",
   "mimetype": "text/x-python",
   "name": "python",
   "nbconvert_exporter": "python",
   "pygments_lexer": "ipython3",
   "version": "3.11.4"
  }
 },
 "nbformat": 4,
 "nbformat_minor": 2
}

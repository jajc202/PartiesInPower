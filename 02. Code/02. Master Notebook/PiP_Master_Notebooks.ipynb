{
 "cells": [
  {
   "cell_type": "markdown",
   "metadata": {},
   "source": [
    "# **Parties in Power (PiP) Master Notebook**"
   ]
  },
  {
   "cell_type": "markdown",
   "metadata": {},
   "source": [
    "---"
   ]
  },
  {
   "cell_type": "markdown",
   "metadata": {},
   "source": [
    "**Created**: 15/03/2025  \n",
    "**Purpose**: To create visualisations for the PiP article **(ADD LINK HERE)**  \n",
    "**Prerequisites**: Data preparation notebooks to be run for each country **(ADD LINK HERE)**  \n",
    "**Output**: JPEG-format visualisations for: 1) Change in political alignment by popular vote; 2) Change in political alignment by party in power."
   ]
  },
  {
   "cell_type": "markdown",
   "metadata": {},
   "source": [
    "---"
   ]
  },
  {
   "cell_type": "markdown",
   "metadata": {},
   "source": [
    "## **Import Required Libraries**"
   ]
  },
  {
   "cell_type": "code",
   "execution_count": 1,
   "metadata": {},
   "outputs": [],
   "source": [
    "# Import pandas\n",
    "import pandas as pd\n",
    "\n",
    "# Import matplotlib and seaborn for plotting\n",
    "import matplotlib.pyplot as plt\n",
    "import seaborn as sns\n",
    "\n",
    "# Import os to access directories\n",
    "import os\n",
    "\n",
    "# Import json for config files\n",
    "import json"
   ]
  },
  {
   "cell_type": "markdown",
   "metadata": {},
   "source": [
    "## **Import Processed Data**"
   ]
  },
  {
   "cell_type": "markdown",
   "metadata": {},
   "source": [
    "### **Define Folder Path for Processed Data**"
   ]
  },
  {
   "cell_type": "code",
   "execution_count": 18,
   "metadata": {},
   "outputs": [],
   "source": [
    "# Define main directory & config filepath\n",
    "main_directory = os.path.abspath(os.path.join(os.getcwd(), '..\\..'))  # Go up one level to the main directory\n",
    "\n",
    "# Define folder path for processed election data\n",
    "inp_path = os.path.join(main_directory, '03. Output\\\\01. Intermediate\\\\')"
   ]
  },
  {
   "cell_type": "markdown",
   "metadata": {},
   "source": [
    "### **Create Dictionary of Election Results for Each Country**"
   ]
  },
  {
   "cell_type": "code",
   "execution_count": 19,
   "metadata": {},
   "outputs": [],
   "source": [
    "# Get all CSV files in the directory\n",
    "csv_files = [f for f in os.listdir(inp_path) if f.endswith('.csv')]\n",
    "\n",
    "# Dictionary to store paired DataFrames\n",
    "country_dict = {}\n",
    "\n",
    "# Iterate through files and store them in dictionary\n",
    "for file in csv_files:\n",
    "    country, version = file.rsplit(\"_\", 1)  # Split into country and version (e.g., \"UK\", \"Prev.csv\")\n",
    "    version = version.replace(\".csv\", \"\")  # Remove \".csv\"\n",
    "\n",
    "    # Read CSV into DataFrame\n",
    "    df = pd.read_csv(f\"{inp_path}\\{file}\")\n",
    "\n",
    "    # Initialize country key if not exists\n",
    "    if country not in country_dict:\n",
    "        country_dict[country] = {}\n",
    "\n",
    "    # Store the DataFrame under \"Prev\" or \"New\"\n",
    "    country_dict[country][version] = df"
   ]
  }
 ],
 "metadata": {
  "kernelspec": {
   "display_name": "Python 3",
   "language": "python",
   "name": "python3"
  },
  "language_info": {
   "codemirror_mode": {
    "name": "ipython",
    "version": 3
   },
   "file_extension": ".py",
   "mimetype": "text/x-python",
   "name": "python",
   "nbconvert_exporter": "python",
   "pygments_lexer": "ipython3",
   "version": "3.11.4"
  }
 },
 "nbformat": 4,
 "nbformat_minor": 2
}

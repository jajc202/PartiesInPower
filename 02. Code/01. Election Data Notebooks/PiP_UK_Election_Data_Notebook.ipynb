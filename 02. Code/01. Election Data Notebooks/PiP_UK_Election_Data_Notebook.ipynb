{
 "cells": [
  {
   "cell_type": "markdown",
   "metadata": {},
   "source": [
    "## **Import Required Libraries**"
   ]
  },
  {
   "cell_type": "code",
   "execution_count": null,
   "metadata": {},
   "outputs": [],
   "source": [
    "# Import pandas\n",
    "import pandas as pd\n",
    "\n",
    "# Import libraries for web scraping\n",
    "import requests\n",
    "from bs4 import BeautifulSoup\n",
    "\n",
    "# Import wikipedia\n",
    "import wikipedia\n",
    "\n",
    "# Import matplotlib for plotting\n",
    "import matplotlib.pyplot as plt\n",
    "\n",
    "# Import json to load config file\n",
    "import json"
   ]
  },
  {
   "cell_type": "markdown",
   "metadata": {},
   "source": [
    "## **Creates UK Election Data**"
   ]
  },
  {
   "cell_type": "markdown",
   "metadata": {},
   "source": [
    "### **Import Raw Data**"
   ]
  },
  {
   "cell_type": "code",
   "execution_count": null,
   "metadata": {},
   "outputs": [],
   "source": [
    "# Load the file path from the config.json file\n",
    "with open('config.json', 'r') as file:\n",
    "    config = json.load(file)\n",
    "\n",
    "# Access the input directory path\n",
    "inp_dir = config['input_data_dir']\n",
    "\n",
    "# Import recent election results raw data\n",
    "uk_re_raw = pd.read_csv(f\"{inp_dir}UK_Election_Results.csv\")"
   ]
  },
  {
   "cell_type": "markdown",
   "metadata": {},
   "source": [
    "### **Clean Data**"
   ]
  },
  {
   "cell_type": "code",
   "execution_count": null,
   "metadata": {},
   "outputs": [],
   "source": [
    "# Remove parties with 0 vote or 0 change\n",
    "uk_re = uk_re_raw[(uk_re_raw[\"Vote Share\"] != 0) | (uk_re_raw[\"Change Since 2019\"] != 0)].copy()"
   ]
  },
  {
   "cell_type": "markdown",
   "metadata": {},
   "source": [
    "### **Add Alignment of Each Party**"
   ]
  },
  {
   "cell_type": "code",
   "execution_count": null,
   "metadata": {},
   "outputs": [],
   "source": [
    "# Create mapping from party to political alignment (using Wikipedia)\n",
    "party_alignment = {\n",
    "    \"Labour\": \"Centre-left\",\n",
    "    \"Conservative\": \"Centre-right to right-wing\",\n",
    "    \"Reform UK\": \"Right-wing\",\n",
    "    \"Liberal Democrat\": \"Centre to centre-left\",\n",
    "    \"Green\": \"Left-wing\",\n",
    "    \"Scottish National Party\": \"Centre-left\",\n",
    "    \"Plaid Cymru\": \"Centre-left to left-wing\",\n",
    "    \"Sinn Féin\": \"Centre-left to left-wing\",\n",
    "    \"Workers Party of Britain\": \"Left-wing to far-left\",\n",
    "    \"Democratic Unionist Party\": \"Right-wing\"\n",
    "}\n",
    "\n",
    "# Create numerical mapping of Alignment\n",
    "#   ranges from -6 (Far-Left) to 6 (Far-Right)\n",
    "alignment_mapping = {\n",
    "    \"Centre-left\": -2,\n",
    "    \"Centre-right\": 2,\n",
    "    \"Centre\": 0,\n",
    "    \"Right-wing\": 4,\n",
    "    \"Left-wing\": -4,\n",
    "    \"Centre to centre-left\": -1,\n",
    "    \"Centre to centre-right\": 1,\n",
    "    \"Centre-right to right-wing\": 3,\n",
    "    \"Center-left\": -2,\n",
    "    \"Big tent\": 0,\n",
    "    \"Centre-left to left-wing\": -3,\n",
    "    \"Far-left\": -6,\n",
    "    \"Centre-rightFactions:Right-wing\": 3,\n",
    "    \"CentreFactions:Left-wing and right-wing\": 0,\n",
    "    \"\\nMajority:\\nRight-wing\": 4,\n",
    "    \"Right-wing to far-right\": 5,\n",
    "    \"Center-right\": 2,\n",
    "    \"Center-right to right-wing\": 3,\n",
    "    \"Far-right\": 6,\n",
    "    \"Left-wing to far-left\": -5,\n",
    "    None: \"No Data\",        # PLACEHOLDER: CHANGE!\n",
    "}\n",
    "\n",
    "# Map Party to alignment\n",
    "uk_re[\"Alignment\"] = uk_re[\"Party\"].map(party_alignment)\n",
    "\n",
    "# Map alignment to numerical alignment\n",
    "uk_re[\"Alignment Score\"] = uk_re[\"Alignment\"].map(alignment_mapping)\n",
    "\n",
    "# Check that all valid parties have been mapped\n",
    "print(f\"Number of unmapped alignments: {len(uk_re[(~uk_re['Alignment'].isna()) & (uk_re['Alignment Score'].isna())])}\")\n",
    "\n",
    "# View data\n",
    "uk_re"
   ]
  },
  {
   "cell_type": "markdown",
   "metadata": {},
   "source": [
    "### **Split Data into Two**"
   ]
  },
  {
   "cell_type": "code",
   "execution_count": null,
   "metadata": {},
   "outputs": [],
   "source": [
    "# Create 2019 vote count col\n",
    "uk_re[\"2019 Vote Share\"] = uk_re[\"Vote Share\"] - uk_re[\"Change Since 2019\"]\n",
    "\n",
    "# Create 2024 data\n",
    "uk_re_2024 = uk_re[[\"Alignment Score\", \"Vote Share\"]].copy()\n",
    "uk_re_2024.rename(columns = {\"Vote Share\": \"In-Scope Vote Prop\"}, inplace=True)\n",
    "\n",
    "# Create 2019 data\n",
    "uk_re_2019 = uk_re[[\"Alignment Score\", \"2019 Vote Share\"]].copy()\n",
    "uk_re_2019.rename(columns = {\"2019 Vote Share\": \"In-Scope Vote Prop\"}, inplace=True)"
   ]
  },
  {
   "cell_type": "markdown",
   "metadata": {},
   "source": [
    "## **Data Visualisation**"
   ]
  },
  {
   "cell_type": "markdown",
   "metadata": {},
   "source": [
    "### **Give Alignment Score**"
   ]
  },
  {
   "cell_type": "code",
   "execution_count": null,
   "metadata": {},
   "outputs": [],
   "source": [
    "# Give alignment score for Uk 2024 election\n",
    "align_score_2024 = uk_re_2024[\"Alignment Score\"].dot(uk_re_2024[\"In-Scope Vote Prop\"])\n",
    "print(f\"Alignment score of the 2024 Uk Election: {align_score_2024}\\n\")\n",
    "\n",
    "# Give alignment score for UK 2019 election\n",
    "align_score_2019 = uk_re_2019[\"Alignment Score\"].dot(uk_re_2019[\"In-Scope Vote Prop\"])\n",
    "print(f\"Alignment score of the 2019 UK Election: {align_score_2019}\")"
   ]
  },
  {
   "cell_type": "markdown",
   "metadata": {},
   "source": [
    "## **Export Data**"
   ]
  },
  {
   "cell_type": "code",
   "execution_count": null,
   "metadata": {},
   "outputs": [],
   "source": [
    "# Access the input directory path\n",
    "out_dir = config['inter_outputs_dir']\n",
    "\n",
    "uk_re_2019.to_csv(f\"{out_dir}UK_Prev.csv\", index=False)\n",
    "uk_re_2024.to_csv(f\"{out_dir}UK_New.csv\", index=False)"
   ]
  }
 ],
 "metadata": {
  "kernelspec": {
   "display_name": "Python 3",
   "language": "python",
   "name": "python3"
  },
  "language_info": {
   "codemirror_mode": {
    "name": "ipython",
    "version": 3
   },
   "file_extension": ".py",
   "mimetype": "text/x-python",
   "name": "python",
   "nbconvert_exporter": "python",
   "pygments_lexer": "ipython3",
   "version": "3.11.4"
  }
 },
 "nbformat": 4,
 "nbformat_minor": 2
}

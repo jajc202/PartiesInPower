{
 "cells": [
  {
   "cell_type": "markdown",
   "metadata": {},
   "source": [
    "## **Import Required Libraries**"
   ]
  },
  {
   "cell_type": "code",
   "execution_count": null,
   "metadata": {},
   "outputs": [],
   "source": [
    "# Import pandas\n",
    "import pandas as pd\n",
    "\n",
    "# Import libraries for web scraping\n",
    "import requests\n",
    "from bs4 import BeautifulSoup\n",
    "\n",
    "# Import wikipedia\n",
    "import wikipedia\n",
    "\n",
    "# Import matplotlib for plotting\n",
    "import matplotlib.pyplot as plt\n",
    "\n",
    "# Import json to load config file\n",
    "import json"
   ]
  },
  {
   "cell_type": "markdown",
   "metadata": {},
   "source": [
    "## **Creates French Election Data**"
   ]
  },
  {
   "cell_type": "markdown",
   "metadata": {},
   "source": [
    "### **Import Raw Data**"
   ]
  },
  {
   "cell_type": "code",
   "execution_count": null,
   "metadata": {},
   "outputs": [],
   "source": [
    "# Load the file path from the config.json file\n",
    "with open('config.json', 'r') as file:\n",
    "    config = json.load(file)\n",
    "\n",
    "# Access the input directory path\n",
    "inp_dir = config['input_data_dir']\n",
    "\n",
    "# Import recent election results raw data\n",
    "it_re_raw = pd.read_csv(f\"{inp_dir}Italy_Election_Results_Prev.csv\")"
   ]
  },
  {
   "cell_type": "markdown",
   "metadata": {},
   "source": [
    "### **Clean Data**"
   ]
  },
  {
   "cell_type": "code",
   "execution_count": null,
   "metadata": {},
   "outputs": [],
   "source": [
    "# Create copy of data to modify\n",
    "it_re = it_re_raw.copy()\n",
    "\n",
    "# Cast Votes cols as float\n",
    "it_re[\"Votes\"] = it_re[\"Votes\"].str.replace(\",\",\"\").astype(float)\n",
    "it_re[\"Votes - Overseas\"] = it_re[\"Votes - Overseas\"].str.replace(\",\",\"\").astype(float)"
   ]
  },
  {
   "cell_type": "markdown",
   "metadata": {},
   "source": [
    "### **Create Function to Automatically Retrieve Alignments**"
   ]
  },
  {
   "cell_type": "code",
   "execution_count": null,
   "metadata": {},
   "outputs": [],
   "source": [
    "# Define function to get alignment of a political party\n",
    "def pol_alignment(party):\n",
    "    # Get url for party's wiki page\n",
    "    try:\n",
    "        url = wikipedia.page(party).url\n",
    "    except:\n",
    "        return None\n",
    "\n",
    "    # Fetch the Wikipedia page\n",
    "    response = requests.get(url)\n",
    "\n",
    "    # Parse the HTML\n",
    "    soup = BeautifulSoup(response.content, \"html.parser\")\n",
    "\n",
    "    # Define the infobox\n",
    "    infobox = soup.find('table', {'class': 'infobox'})\n",
    "\n",
    "    if infobox is None:\n",
    "        return None\n",
    "    else:\n",
    "        # Initialise political position\n",
    "        position = None\n",
    "\n",
    "        # Find the political position from the infobox\n",
    "        for row in infobox.find_all('tr'):\n",
    "            if \"Political\\xa0position\" in row.get_text():\n",
    "                position = row.get_text().split(\"Political\\xa0position\")[1]\n",
    "                position = position.split(\"[\")[0]\n",
    "\n",
    "    return position"
   ]
  },
  {
   "cell_type": "markdown",
   "metadata": {},
   "source": [
    "### **Apply Function**"
   ]
  },
  {
   "cell_type": "code",
   "execution_count": null,
   "metadata": {},
   "outputs": [],
   "source": [
    "# Create mapping using function\n",
    "party_alignment = {party: pol_alignment(party) for party in it_re[\"Party\"]}\n",
    "\n",
    "# Get keys with None values\n",
    "none_keys = [key for key, value in party_alignment.items() if value is None]\n",
    "print(none_keys)"
   ]
  },
  {
   "cell_type": "markdown",
   "metadata": {},
   "source": [
    "### **Manually Update Unmapped Parties**"
   ]
  },
  {
   "cell_type": "code",
   "execution_count": null,
   "metadata": {},
   "outputs": [],
   "source": [
    "# Create mapping for unmapped parties\n",
    "unmapped_parties = {\n",
    "    \"Brothers of Italy\": \"Right-wing to far-right\",\n",
    "    \"League\": \"Right-wing to far-right\",\n",
    "    \"Democratic Party – IDP\": \"Centre-left\",\n",
    "    \"Civic Commitment\": \"Centre\",\n",
    "    \"South calls North\": \"Centre-right\",\n",
    "    \"Aosta Valley\": \"Big tent\",\n",
    "    \"Others\": None,\n",
    "    \"Together\": \"Centre-left\",\n",
    "    \"SVP–PATT\": \"Centre\",\n",
    "    \"Free and Equal\": \"Left-wing\"\n",
    "}\n",
    "\n",
    "# Combine the mappings\n",
    "party_alignment = party_alignment | unmapped_parties"
   ]
  },
  {
   "cell_type": "markdown",
   "metadata": {},
   "source": [
    "### **Add Alignment of Each Party**"
   ]
  },
  {
   "cell_type": "code",
   "execution_count": null,
   "metadata": {},
   "outputs": [],
   "source": [
    "# Create numerical mapping of Alignment\n",
    "#   ranges from -6 (Far-Left) to 6 (Far-Right)\n",
    "alignment_mapping = {\n",
    "    \"Centre-left\": -2,\n",
    "    \"Centre-right\": 2,\n",
    "    \"Centre\": 0,\n",
    "    \"Right-wing\": 4,\n",
    "    \"Left-wing\": -4,\n",
    "    \"Centre to centre-left\": -1,\n",
    "    \"Centre to centre-right\": 1,\n",
    "    \"Centre-right to right-wing\": 3,\n",
    "    \"Center-left\": -2,\n",
    "    \"Big tent\": 0,\n",
    "    \"Centre-left to left-wing\": -3,\n",
    "    \"Far-left\": -6,\n",
    "    \"Centre-rightFactions:Right-wing\": 3,\n",
    "    \"CentreFactions:Left-wing and right-wing\": 0,\n",
    "    \"\\nMajority:\\nRight-wing\": 4,\n",
    "    \"Right-wing to far-right\": 5,\n",
    "    \"Center-right\": 2,\n",
    "    \"Center-right to right-wing\": 3,\n",
    "    \"Far-right\": 6,\n",
    "    \"Left-Wing\": -4,\n",
    "    \"Far-Right\": 6,\n",
    "    \"Syncretic\": 0,\n",
    "    \"Single-issue\": \"No Data\",\n",
    "    None: \"No Data\",        # PLACEHOLDER: CHANGE!\n",
    "}\n",
    "\n",
    "# Map Party to alignment\n",
    "it_re[\"Alignment\"] = it_re[\"Party\"].map(party_alignment)\n",
    "\n",
    "# Map alignment to numerical alignment\n",
    "it_re[\"Alignment Score\"] = it_re[\"Alignment\"].map(alignment_mapping)\n",
    "\n",
    "# Check that all valid parties have been mapped\n",
    "print(f\"Number of unmapped alignments: {len(it_re[(~it_re['Alignment'].isna()) & (it_re['Alignment Score'].isna())])}\")\n",
    "\n",
    "# Preview data\n",
    "it_re.head()"
   ]
  },
  {
   "cell_type": "markdown",
   "metadata": {},
   "source": [
    "### **Create Spectrum Results Data**"
   ]
  },
  {
   "cell_type": "code",
   "execution_count": null,
   "metadata": {},
   "outputs": [],
   "source": [
    "#Get total votes over both rounds\n",
    "it_re[\"Total Votes\"] = it_re[\"Votes\"] + it_re[\"Votes % - Overseas\"]\n",
    "\n",
    "# Get vote count by alignment\n",
    "align_votes = it_re.groupby(['Alignment Score'])['Total Votes'].sum().sort_values(ascending=False).reset_index()\n",
    "\n",
    "# Remove \"No Data\" Alignment\n",
    "align_votes = align_votes[align_votes[\"Alignment Score\"] != 'No Data']\n",
    "\n",
    "# Create % of total column\n",
    "align_votes['In-Scope Vote Prop'] = (align_votes['Total Votes'] / align_votes['Total Votes'].sum())\n",
    "align_votes['In-Scope Vote %'] = (align_votes['Total Votes'] / align_votes['Total Votes'].sum()) * 100\n",
    "align_votes['In-Scope Vote %'] = align_votes['In-Scope Vote %'].round(2)\n",
    "\n",
    "# View data\n",
    "align_votes"
   ]
  },
  {
   "cell_type": "markdown",
   "metadata": {},
   "source": [
    "## **Data Visualisation**"
   ]
  },
  {
   "cell_type": "markdown",
   "metadata": {},
   "source": [
    "### **Give Alignment Score**"
   ]
  },
  {
   "cell_type": "code",
   "execution_count": null,
   "metadata": {},
   "outputs": [],
   "source": [
    "# Give alignment score for Italian 2022 election\n",
    "align_score = align_votes[\"Alignment Score\"].dot(align_votes[\"In-Scope Vote Prop\"])\n",
    "print(f\"Alignment score of the Italian 2022 Election: {align_score}\")"
   ]
  },
  {
   "cell_type": "markdown",
   "metadata": {},
   "source": [
    "## **Export Data**"
   ]
  },
  {
   "cell_type": "code",
   "execution_count": null,
   "metadata": {},
   "outputs": [],
   "source": [
    "# Access the input directory path\n",
    "out_dir = config['inter_outputs_dir']\n",
    "\n",
    "align_votes.to_csv(f\"{out_dir}Italy_Prev.csv\", index=False)"
   ]
  }
 ],
 "metadata": {
  "kernelspec": {
   "display_name": "Python 3",
   "language": "python",
   "name": "python3"
  },
  "language_info": {
   "codemirror_mode": {
    "name": "ipython",
    "version": 3
   },
   "file_extension": ".py",
   "mimetype": "text/x-python",
   "name": "python",
   "nbconvert_exporter": "python",
   "pygments_lexer": "ipython3",
   "version": "3.11.4"
  }
 },
 "nbformat": 4,
 "nbformat_minor": 2
}

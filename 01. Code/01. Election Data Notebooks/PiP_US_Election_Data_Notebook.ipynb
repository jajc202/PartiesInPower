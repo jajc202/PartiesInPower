{
 "cells": [
  {
   "cell_type": "markdown",
   "metadata": {},
   "source": [
    "## **Import Required Libraries**"
   ]
  },
  {
   "cell_type": "code",
   "execution_count": null,
   "metadata": {},
   "outputs": [],
   "source": [
    "# Import pandas\n",
    "import pandas as pd\n",
    "\n",
    "# Import libraries for web scraping\n",
    "import requests\n",
    "from bs4 import BeautifulSoup\n",
    "\n",
    "# Import wikipedia\n",
    "import wikipedia\n",
    "\n",
    "# Import matplotlib for plotting\n",
    "import matplotlib.pyplot as plt\n",
    "\n",
    "# Import json to load config file\n",
    "import json"
   ]
  },
  {
   "cell_type": "markdown",
   "metadata": {},
   "source": [
    "## **Creates US Election Data**"
   ]
  },
  {
   "cell_type": "markdown",
   "metadata": {},
   "source": [
    "### **Import Raw Data**"
   ]
  },
  {
   "cell_type": "code",
   "execution_count": null,
   "metadata": {},
   "outputs": [],
   "source": [
    "# Load the file path from the config.json file\n",
    "with open('config.json', 'r') as file:\n",
    "    config = json.load(file)\n",
    "\n",
    "# Access the input directory path\n",
    "inp_dir = config['input_data_dir']\n",
    "\n",
    "# Import recent election results raw data\n",
    "us_re_raw = pd.read_csv(f\"{inp_dir}US_Election_Results.csv\")"
   ]
  },
  {
   "cell_type": "markdown",
   "metadata": {},
   "source": [
    "### **Clean Data**"
   ]
  },
  {
   "cell_type": "code",
   "execution_count": null,
   "metadata": {},
   "outputs": [],
   "source": [
    "# Create copy of data to modify\n",
    "us_re = us_re_raw.copy()\n",
    "\n",
    "# Convert votes field to numeric\n",
    "us_re[\"Votes\"] = us_re[\"Votes\"].str.replace(\",\",\"\")\n",
    "us_re[\"Votes\"] = us_re[\"Votes\"].apply(pd.to_numeric)\n",
    "\n",
    "# Remove \"wins\" from Candidate field\n",
    "us_re[\"Candidate\"] = us_re[\"Candidate\"].str.replace(\" wins\",\"\")\n",
    "\n",
    "# Remove \"(incumbent)\" from party field\n",
    "us_re[\"Party\"] = us_re[\"Party\"].str.replace(\" (incumbent)\",\"\")"
   ]
  },
  {
   "cell_type": "markdown",
   "metadata": {},
   "source": [
    "### **Add Alignment of Each Party**"
   ]
  },
  {
   "cell_type": "code",
   "execution_count": null,
   "metadata": {},
   "outputs": [],
   "source": [
    "# Create mapping from party to political alignment (using Wikipedia)\n",
    "party_alignment = {\n",
    "    \"Republican\": \"Center-right to right-wing\",\n",
    "    \"Democrat\": \"Centre-left\",\n",
    "    \"Green\": \"Left-wing\",\n",
    "    #\"Robert F. Kennedy Jr\": \n",
    "    \"Libertarian\": \"Center-right\",\n",
    "    \"Peace and Freedom\": \"Left-wing\",\n",
    "    \"Unity\": \"Centre\",\n",
    "    \"Constitution\": \"Far-right\",\n",
    "    \"American Solidarity\": \"Centre\",\n",
    "    \"Socialist Equality\": \"Far-left\",\n",
    "    \"Socialist Workers Party\": \"Far-left\",\n",
    "    \"Prohibition\": \"Centre\",\n",
    "    \"Independent\": None\n",
    "}\n",
    "\n",
    "# Create numerical mapping of Alignment\n",
    "#   ranges from -6 (Far-Left) to 6 (Far-Right)\n",
    "alignment_mapping = {\n",
    "    \"Centre-left\": -2,\n",
    "    \"Centre-right\": 2,\n",
    "    \"Centre\": 0,\n",
    "    \"Right-wing\": 4,\n",
    "    \"Left-wing\": -4,\n",
    "    \"Centre to centre-left\": -1,\n",
    "    \"Centre to centre-right\": 1,\n",
    "    \"Centre-right to right-wing\": 3,\n",
    "    \"Center-left\": -2,\n",
    "    \"Big tent\": 0,\n",
    "    \"Centre-left to left-wing\": -3,\n",
    "    \"Far-left\": -6,\n",
    "    \"Centre-rightFactions:Right-wing\": 3,\n",
    "    \"CentreFactions:Left-wing and right-wing\": 0,\n",
    "    \"\\nMajority:\\nRight-wing\": 4,\n",
    "    \"Right-wing to far-right\": 5,\n",
    "    \"Center-right\": 2,\n",
    "    \"Center-right to right-wing\": 3,\n",
    "    \"Far-right\": 6,\n",
    "    None: \"No Data\",        # PLACEHOLDER: CHANGE!\n",
    "}\n",
    "\n",
    "# Map Party to alignment\n",
    "us_re[\"Alignment\"] = us_re[\"Party\"].map(party_alignment)\n",
    "\n",
    "# Map alignment to numerical alignment\n",
    "us_re[\"Alignment Score\"] = us_re[\"Alignment\"].map(alignment_mapping)\n",
    "\n",
    "# Check that all valid parties have been mapped\n",
    "print(f\"Number of unmapped alignments: {len(us_re[(~us_re['Alignment'].isna()) & (us_re['Alignment Score'].isna())])}\")\n",
    "\n",
    "# Preview data\n",
    "us_re.head()"
   ]
  },
  {
   "cell_type": "markdown",
   "metadata": {},
   "source": [
    "### **Create Spectrum Results Data**"
   ]
  },
  {
   "cell_type": "code",
   "execution_count": null,
   "metadata": {},
   "outputs": [],
   "source": [
    "# Get vote count by alignment\n",
    "align_votes = us_re.groupby(['Alignment Score'])['Votes'].sum().sort_values(ascending=False).reset_index()\n",
    "\n",
    "# Remove \"No Data\" Alignment\n",
    "align_votes = align_votes[align_votes[\"Alignment Score\"] != 'No Data']\n",
    "\n",
    "# Create % of total column\n",
    "align_votes['In-Scope Vote Prop'] = (align_votes['Votes'] / align_votes['Votes'].sum())\n",
    "align_votes['In-Scope Vote %'] = (align_votes['Votes'] / align_votes['Votes'].sum()) * 100\n",
    "align_votes['In-Scope Vote %'] = align_votes['In-Scope Vote %'].round(2)\n",
    "\n",
    "# View data\n",
    "align_votes"
   ]
  },
  {
   "cell_type": "markdown",
   "metadata": {},
   "source": [
    "## **Data Visualisation**"
   ]
  },
  {
   "cell_type": "markdown",
   "metadata": {},
   "source": [
    "### **Plot the Data**"
   ]
  },
  {
   "cell_type": "code",
   "execution_count": null,
   "metadata": {},
   "outputs": [],
   "source": [
    "# Create the bar chart\n",
    "plt.figure(figsize=(10, 5))\n",
    "plt.bar(align_votes['Alignment Score'], align_votes['In-Scope Vote %'], color='skyblue')\n",
    "\n",
    "# Add labels and title\n",
    "plt.xlabel('Alignment Score')\n",
    "plt.ylabel('In-Scope Vote %')\n",
    "plt.title(r'Vote % by Alignment Score')\n",
    "plt.show()"
   ]
  },
  {
   "cell_type": "markdown",
   "metadata": {},
   "source": [
    "### **Give Alignment Score**"
   ]
  },
  {
   "cell_type": "code",
   "execution_count": null,
   "metadata": {},
   "outputs": [],
   "source": [
    "# Give alignment score for US 2024 election\n",
    "align_score = align_votes[\"Alignment Score\"].dot(align_votes[\"In-Scope Vote Prop\"])\n",
    "print(f\"Alignment score of the 2024 US Election: {align_score}\")"
   ]
  },
  {
   "cell_type": "markdown",
   "metadata": {},
   "source": [
    "## **Export Data**"
   ]
  },
  {
   "cell_type": "code",
   "execution_count": null,
   "metadata": {},
   "outputs": [],
   "source": [
    "# Access the input directory path\n",
    "out_dir = config['inter_outputs_dir']\n",
    "\n",
    "align_votes.to_csv(f\"{out_dir}US_New.csv\", index=False)"
   ]
  }
 ],
 "metadata": {
  "kernelspec": {
   "display_name": "Python 3",
   "language": "python",
   "name": "python3"
  },
  "language_info": {
   "codemirror_mode": {
    "name": "ipython",
    "version": 3
   },
   "file_extension": ".py",
   "mimetype": "text/x-python",
   "name": "python",
   "nbconvert_exporter": "python",
   "pygments_lexer": "ipython3",
   "version": "3.11.4"
  }
 },
 "nbformat": 4,
 "nbformat_minor": 2
}
